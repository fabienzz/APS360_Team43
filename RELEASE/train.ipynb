{
  "cells": [
    {
      "cell_type": "markdown",
      "metadata": {
        "id": "--BPBs-ZuWMR"
      },
      "source": [
        "## Environment Setup"
      ]
    },
    {
      "cell_type": "code",
      "execution_count": null,
      "metadata": {
        "colab": {
          "base_uri": "https://localhost:8080/"
        },
        "id": "-nODV94R2-ZY",
        "outputId": "aca7991a-ccb5-4718-c701-7d73f4844639"
      },
      "outputs": [
        {
          "name": "stdout",
          "output_type": "stream",
          "text": [
            "Requirement already satisfied: torchtext==0.6 in /usr/local/lib/python3.10/dist-packages (0.6.0)\n",
            "Requirement already satisfied: tqdm in /usr/local/lib/python3.10/dist-packages (from torchtext==0.6) (4.66.2)\n",
            "Requirement already satisfied: requests in /usr/local/lib/python3.10/dist-packages (from torchtext==0.6) (2.31.0)\n",
            "Requirement already satisfied: torch in /usr/local/lib/python3.10/dist-packages (from torchtext==0.6) (2.2.1+cu121)\n",
            "Requirement already satisfied: numpy in /usr/local/lib/python3.10/dist-packages (from torchtext==0.6) (1.25.2)\n",
            "Requirement already satisfied: six in /usr/local/lib/python3.10/dist-packages (from torchtext==0.6) (1.16.0)\n",
            "Requirement already satisfied: sentencepiece in /usr/local/lib/python3.10/dist-packages (from torchtext==0.6) (0.1.99)\n",
            "Requirement already satisfied: charset-normalizer<4,>=2 in /usr/local/lib/python3.10/dist-packages (from requests->torchtext==0.6) (3.3.2)\n",
            "Requirement already satisfied: idna<4,>=2.5 in /usr/local/lib/python3.10/dist-packages (from requests->torchtext==0.6) (3.6)\n",
            "Requirement already satisfied: urllib3<3,>=1.21.1 in /usr/local/lib/python3.10/dist-packages (from requests->torchtext==0.6) (2.0.7)\n",
            "Requirement already satisfied: certifi>=2017.4.17 in /usr/local/lib/python3.10/dist-packages (from requests->torchtext==0.6) (2024.2.2)\n",
            "Requirement already satisfied: filelock in /usr/local/lib/python3.10/dist-packages (from torch->torchtext==0.6) (3.13.3)\n",
            "Requirement already satisfied: typing-extensions>=4.8.0 in /usr/local/lib/python3.10/dist-packages (from torch->torchtext==0.6) (4.10.0)\n",
            "Requirement already satisfied: sympy in /usr/local/lib/python3.10/dist-packages (from torch->torchtext==0.6) (1.12)\n",
            "Requirement already satisfied: networkx in /usr/local/lib/python3.10/dist-packages (from torch->torchtext==0.6) (3.2.1)\n",
            "Requirement already satisfied: jinja2 in /usr/local/lib/python3.10/dist-packages (from torch->torchtext==0.6) (3.1.3)\n",
            "Requirement already satisfied: fsspec in /usr/local/lib/python3.10/dist-packages (from torch->torchtext==0.6) (2023.6.0)\n",
            "Requirement already satisfied: nvidia-cuda-nvrtc-cu12==12.1.105 in /usr/local/lib/python3.10/dist-packages (from torch->torchtext==0.6) (12.1.105)\n",
            "Requirement already satisfied: nvidia-cuda-runtime-cu12==12.1.105 in /usr/local/lib/python3.10/dist-packages (from torch->torchtext==0.6) (12.1.105)\n",
            "Requirement already satisfied: nvidia-cuda-cupti-cu12==12.1.105 in /usr/local/lib/python3.10/dist-packages (from torch->torchtext==0.6) (12.1.105)\n",
            "Requirement already satisfied: nvidia-cudnn-cu12==8.9.2.26 in /usr/local/lib/python3.10/dist-packages (from torch->torchtext==0.6) (8.9.2.26)\n",
            "Requirement already satisfied: nvidia-cublas-cu12==12.1.3.1 in /usr/local/lib/python3.10/dist-packages (from torch->torchtext==0.6) (12.1.3.1)\n",
            "Requirement already satisfied: nvidia-cufft-cu12==11.0.2.54 in /usr/local/lib/python3.10/dist-packages (from torch->torchtext==0.6) (11.0.2.54)\n",
            "Requirement already satisfied: nvidia-curand-cu12==10.3.2.106 in /usr/local/lib/python3.10/dist-packages (from torch->torchtext==0.6) (10.3.2.106)\n",
            "Requirement already satisfied: nvidia-cusolver-cu12==11.4.5.107 in /usr/local/lib/python3.10/dist-packages (from torch->torchtext==0.6) (11.4.5.107)\n",
            "Requirement already satisfied: nvidia-cusparse-cu12==12.1.0.106 in /usr/local/lib/python3.10/dist-packages (from torch->torchtext==0.6) (12.1.0.106)\n",
            "Requirement already satisfied: nvidia-nccl-cu12==2.19.3 in /usr/local/lib/python3.10/dist-packages (from torch->torchtext==0.6) (2.19.3)\n",
            "Requirement already satisfied: nvidia-nvtx-cu12==12.1.105 in /usr/local/lib/python3.10/dist-packages (from torch->torchtext==0.6) (12.1.105)\n",
            "Requirement already satisfied: triton==2.2.0 in /usr/local/lib/python3.10/dist-packages (from torch->torchtext==0.6) (2.2.0)\n",
            "Requirement already satisfied: nvidia-nvjitlink-cu12 in /usr/local/lib/python3.10/dist-packages (from nvidia-cusolver-cu12==11.4.5.107->torch->torchtext==0.6) (12.4.127)\n",
            "Requirement already satisfied: MarkupSafe>=2.0 in /usr/local/lib/python3.10/dist-packages (from jinja2->torch->torchtext==0.6) (2.1.5)\n",
            "Requirement already satisfied: mpmath>=0.19 in /usr/local/lib/python3.10/dist-packages (from sympy->torch->torchtext==0.6) (1.3.0)\n",
            "Reading package lists... Done\n",
            "Building dependency tree... Done\n",
            "Reading state information... Done\n",
            "The following additional packages will be installed:\n",
            "  dvisvgm fonts-droid-fallback fonts-lmodern fonts-noto-mono fonts-texgyre\n",
            "  fonts-urw-base35 libfontenc1 libgs9 libgs9-common libidn12 libijs-0.35\n",
            "  libjbig2dec0 libkpathsea6 libptexenc1 libsynctex2 libteckit0 libtexlua53\n",
            "  libtexluajit2 libwoff1 libzzip-0-13 lmodern poppler-data t1utils tex-common\n",
            "  tex-gyre texlive-base texlive-binaries texlive-fonts-recommended\n",
            "  texlive-latex-base texlive-latex-recommended tipa xfonts-encodings\n",
            "  xfonts-utils\n",
            "Suggested packages:\n",
            "  fonts-noto fonts-freefont-otf | fonts-freefont-ttf poppler-utils ghostscript\n",
            "  fonts-japanese-mincho | fonts-ipafont-mincho fonts-japanese-gothic\n",
            "  | fonts-ipafont-gothic fonts-arphic-ukai fonts-arphic-uming fonts-nanum\n",
            "  debhelper gv | postscript-viewer perl-tk xpdf | pdf-viewer xzdec\n",
            "  texlive-fonts-recommended-doc texlive-latex-base-doc\n",
            "  texlive-latex-recommended-doc texlive-luatex texlive-pstricks tipa-doc\n",
            "The following NEW packages will be installed:\n",
            "  dvisvgm fonts-droid-fallback fonts-lmodern fonts-noto-mono fonts-texgyre\n",
            "  fonts-urw-base35 libfontenc1 libgs9 libgs9-common libidn12 libijs-0.35\n",
            "  libjbig2dec0 libkpathsea6 libptexenc1 libsynctex2 libteckit0 libtexlua53\n",
            "  libtexluajit2 libwoff1 libzzip-0-13 lmodern poppler-data t1utils tex-common\n",
            "  tex-gyre texlive texlive-base texlive-binaries texlive-fonts-recommended\n",
            "  texlive-latex-base texlive-latex-recommended tipa xfonts-encodings\n",
            "  xfonts-utils\n",
            "0 upgraded, 34 newly installed, 0 to remove and 45 not upgraded.\n",
            "Need to get 104 MB of archives.\n",
            "After this operation, 317 MB of additional disk space will be used.\n",
            "Get:1 http://archive.ubuntu.com/ubuntu jammy/main amd64 fonts-droid-fallback all 1:6.0.1r16-1.1build1 [1,805 kB]\n",
            "Get:2 http://archive.ubuntu.com/ubuntu jammy/main amd64 poppler-data all 0.4.11-1 [2,171 kB]\n",
            "Get:3 http://archive.ubuntu.com/ubuntu jammy/universe amd64 tex-common all 6.17 [33.7 kB]\n",
            "Get:4 http://archive.ubuntu.com/ubuntu jammy/main amd64 fonts-urw-base35 all 20200910-1 [6,367 kB]\n",
            "Get:5 http://archive.ubuntu.com/ubuntu jammy-updates/main amd64 libgs9-common all 9.55.0~dfsg1-0ubuntu5.6 [751 kB]\n",
            "Get:6 http://archive.ubuntu.com/ubuntu jammy-updates/main amd64 libidn12 amd64 1.38-4ubuntu1 [60.0 kB]\n",
            "Get:7 http://archive.ubuntu.com/ubuntu jammy/main amd64 libijs-0.35 amd64 0.35-15build2 [16.5 kB]\n",
            "Get:8 http://archive.ubuntu.com/ubuntu jammy/main amd64 libjbig2dec0 amd64 0.19-3build2 [64.7 kB]\n",
            "Get:9 http://archive.ubuntu.com/ubuntu jammy-updates/main amd64 libgs9 amd64 9.55.0~dfsg1-0ubuntu5.6 [5,031 kB]\n",
            "Get:10 http://archive.ubuntu.com/ubuntu jammy-updates/main amd64 libkpathsea6 amd64 2021.20210626.59705-1ubuntu0.2 [60.4 kB]\n",
            "Get:11 http://archive.ubuntu.com/ubuntu jammy/main amd64 libwoff1 amd64 1.0.2-1build4 [45.2 kB]\n",
            "Get:12 http://archive.ubuntu.com/ubuntu jammy/universe amd64 dvisvgm amd64 2.13.1-1 [1,221 kB]\n",
            "Get:13 http://archive.ubuntu.com/ubuntu jammy/universe amd64 fonts-lmodern all 2.004.5-6.1 [4,532 kB]\n",
            "Get:14 http://archive.ubuntu.com/ubuntu jammy/main amd64 fonts-noto-mono all 20201225-1build1 [397 kB]\n",
            "Get:15 http://archive.ubuntu.com/ubuntu jammy/universe amd64 fonts-texgyre all 20180621-3.1 [10.2 MB]\n",
            "Get:16 http://archive.ubuntu.com/ubuntu jammy/main amd64 libfontenc1 amd64 1:1.1.4-1build3 [14.7 kB]\n",
            "Get:17 http://archive.ubuntu.com/ubuntu jammy-updates/main amd64 libptexenc1 amd64 2021.20210626.59705-1ubuntu0.2 [39.1 kB]\n",
            "Get:18 http://archive.ubuntu.com/ubuntu jammy-updates/main amd64 libsynctex2 amd64 2021.20210626.59705-1ubuntu0.2 [55.6 kB]\n",
            "Get:19 http://archive.ubuntu.com/ubuntu jammy/universe amd64 libteckit0 amd64 2.5.11+ds1-1 [421 kB]\n",
            "Get:20 http://archive.ubuntu.com/ubuntu jammy-updates/main amd64 libtexlua53 amd64 2021.20210626.59705-1ubuntu0.2 [120 kB]\n",
            "Get:21 http://archive.ubuntu.com/ubuntu jammy-updates/main amd64 libtexluajit2 amd64 2021.20210626.59705-1ubuntu0.2 [267 kB]\n",
            "Get:22 http://archive.ubuntu.com/ubuntu jammy/universe amd64 libzzip-0-13 amd64 0.13.72+dfsg.1-1.1 [27.0 kB]\n",
            "Get:23 http://archive.ubuntu.com/ubuntu jammy/main amd64 xfonts-encodings all 1:1.0.5-0ubuntu2 [578 kB]\n",
            "Get:24 http://archive.ubuntu.com/ubuntu jammy/main amd64 xfonts-utils amd64 1:7.7+6build2 [94.6 kB]\n",
            "Get:25 http://archive.ubuntu.com/ubuntu jammy/universe amd64 lmodern all 2.004.5-6.1 [9,471 kB]\n",
            "Get:26 http://archive.ubuntu.com/ubuntu jammy/main amd64 t1utils amd64 1.41-4build2 [61.3 kB]\n",
            "Get:27 http://archive.ubuntu.com/ubuntu jammy/universe amd64 tex-gyre all 20180621-3.1 [6,209 kB]\n",
            "Get:28 http://archive.ubuntu.com/ubuntu jammy-updates/universe amd64 texlive-binaries amd64 2021.20210626.59705-1ubuntu0.2 [9,860 kB]\n",
            "Get:29 http://archive.ubuntu.com/ubuntu jammy/universe amd64 texlive-base all 2021.20220204-1 [21.0 MB]\n",
            "Get:30 http://archive.ubuntu.com/ubuntu jammy/universe amd64 texlive-fonts-recommended all 2021.20220204-1 [4,972 kB]\n",
            "Get:31 http://archive.ubuntu.com/ubuntu jammy/universe amd64 texlive-latex-base all 2021.20220204-1 [1,128 kB]\n",
            "Get:32 http://archive.ubuntu.com/ubuntu jammy/universe amd64 texlive-latex-recommended all 2021.20220204-1 [14.4 MB]\n",
            "Get:33 http://archive.ubuntu.com/ubuntu jammy/universe amd64 texlive all 2021.20220204-1 [14.3 kB]\n",
            "Get:34 http://archive.ubuntu.com/ubuntu jammy/universe amd64 tipa all 2:1.3-21 [2,967 kB]\n",
            "Fetched 104 MB in 4s (29.4 MB/s)\n",
            "debconf: unable to initialize frontend: Dialog\n",
            "debconf: (No usable dialog-like program is installed, so the dialog based frontend cannot be used. at /usr/share/perl5/Debconf/FrontEnd/Dialog.pm line 78, <> line 34.)\n",
            "debconf: falling back to frontend: Readline\n",
            "debconf: unable to initialize frontend: Readline\n",
            "debconf: (This frontend requires a controlling tty.)\n",
            "debconf: falling back to frontend: Teletype\n",
            "dpkg-preconfigure: unable to re-open stdin: \n",
            "Selecting previously unselected package fonts-droid-fallback.\n",
            "(Reading database ... 121753 files and directories currently installed.)\n",
            "Preparing to unpack .../00-fonts-droid-fallback_1%3a6.0.1r16-1.1build1_all.deb ...\n",
            "Unpacking fonts-droid-fallback (1:6.0.1r16-1.1build1) ...\n",
            "Selecting previously unselected package poppler-data.\n",
            "Preparing to unpack .../01-poppler-data_0.4.11-1_all.deb ...\n",
            "Unpacking poppler-data (0.4.11-1) ...\n",
            "Selecting previously unselected package tex-common.\n",
            "Preparing to unpack .../02-tex-common_6.17_all.deb ...\n",
            "Unpacking tex-common (6.17) ...\n",
            "Selecting previously unselected package fonts-urw-base35.\n",
            "Preparing to unpack .../03-fonts-urw-base35_20200910-1_all.deb ...\n",
            "Unpacking fonts-urw-base35 (20200910-1) ...\n",
            "Selecting previously unselected package libgs9-common.\n",
            "Preparing to unpack .../04-libgs9-common_9.55.0~dfsg1-0ubuntu5.6_all.deb ...\n",
            "Unpacking libgs9-common (9.55.0~dfsg1-0ubuntu5.6) ...\n",
            "Selecting previously unselected package libidn12:amd64.\n",
            "Preparing to unpack .../05-libidn12_1.38-4ubuntu1_amd64.deb ...\n",
            "Unpacking libidn12:amd64 (1.38-4ubuntu1) ...\n",
            "Selecting previously unselected package libijs-0.35:amd64.\n",
            "Preparing to unpack .../06-libijs-0.35_0.35-15build2_amd64.deb ...\n",
            "Unpacking libijs-0.35:amd64 (0.35-15build2) ...\n",
            "Selecting previously unselected package libjbig2dec0:amd64.\n",
            "Preparing to unpack .../07-libjbig2dec0_0.19-3build2_amd64.deb ...\n",
            "Unpacking libjbig2dec0:amd64 (0.19-3build2) ...\n",
            "Selecting previously unselected package libgs9:amd64.\n",
            "Preparing to unpack .../08-libgs9_9.55.0~dfsg1-0ubuntu5.6_amd64.deb ...\n",
            "Unpacking libgs9:amd64 (9.55.0~dfsg1-0ubuntu5.6) ...\n",
            "Selecting previously unselected package libkpathsea6:amd64.\n",
            "Preparing to unpack .../09-libkpathsea6_2021.20210626.59705-1ubuntu0.2_amd64.deb ...\n",
            "Unpacking libkpathsea6:amd64 (2021.20210626.59705-1ubuntu0.2) ...\n",
            "Selecting previously unselected package libwoff1:amd64.\n",
            "Preparing to unpack .../10-libwoff1_1.0.2-1build4_amd64.deb ...\n",
            "Unpacking libwoff1:amd64 (1.0.2-1build4) ...\n",
            "Selecting previously unselected package dvisvgm.\n",
            "Preparing to unpack .../11-dvisvgm_2.13.1-1_amd64.deb ...\n",
            "Unpacking dvisvgm (2.13.1-1) ...\n",
            "Selecting previously unselected package fonts-lmodern.\n",
            "Preparing to unpack .../12-fonts-lmodern_2.004.5-6.1_all.deb ...\n",
            "Unpacking fonts-lmodern (2.004.5-6.1) ...\n",
            "Selecting previously unselected package fonts-noto-mono.\n",
            "Preparing to unpack .../13-fonts-noto-mono_20201225-1build1_all.deb ...\n",
            "Unpacking fonts-noto-mono (20201225-1build1) ...\n",
            "Selecting previously unselected package fonts-texgyre.\n",
            "Preparing to unpack .../14-fonts-texgyre_20180621-3.1_all.deb ...\n",
            "Unpacking fonts-texgyre (20180621-3.1) ...\n",
            "Selecting previously unselected package libfontenc1:amd64.\n",
            "Preparing to unpack .../15-libfontenc1_1%3a1.1.4-1build3_amd64.deb ...\n",
            "Unpacking libfontenc1:amd64 (1:1.1.4-1build3) ...\n",
            "Selecting previously unselected package libptexenc1:amd64.\n",
            "Preparing to unpack .../16-libptexenc1_2021.20210626.59705-1ubuntu0.2_amd64.deb ...\n",
            "Unpacking libptexenc1:amd64 (2021.20210626.59705-1ubuntu0.2) ...\n",
            "Selecting previously unselected package libsynctex2:amd64.\n",
            "Preparing to unpack .../17-libsynctex2_2021.20210626.59705-1ubuntu0.2_amd64.deb ...\n",
            "Unpacking libsynctex2:amd64 (2021.20210626.59705-1ubuntu0.2) ...\n",
            "Selecting previously unselected package libteckit0:amd64.\n",
            "Preparing to unpack .../18-libteckit0_2.5.11+ds1-1_amd64.deb ...\n",
            "Unpacking libteckit0:amd64 (2.5.11+ds1-1) ...\n",
            "Selecting previously unselected package libtexlua53:amd64.\n",
            "Preparing to unpack .../19-libtexlua53_2021.20210626.59705-1ubuntu0.2_amd64.deb ...\n",
            "Unpacking libtexlua53:amd64 (2021.20210626.59705-1ubuntu0.2) ...\n",
            "Selecting previously unselected package libtexluajit2:amd64.\n",
            "Preparing to unpack .../20-libtexluajit2_2021.20210626.59705-1ubuntu0.2_amd64.deb ...\n",
            "Unpacking libtexluajit2:amd64 (2021.20210626.59705-1ubuntu0.2) ...\n",
            "Selecting previously unselected package libzzip-0-13:amd64.\n",
            "Preparing to unpack .../21-libzzip-0-13_0.13.72+dfsg.1-1.1_amd64.deb ...\n",
            "Unpacking libzzip-0-13:amd64 (0.13.72+dfsg.1-1.1) ...\n",
            "Selecting previously unselected package xfonts-encodings.\n",
            "Preparing to unpack .../22-xfonts-encodings_1%3a1.0.5-0ubuntu2_all.deb ...\n",
            "Unpacking xfonts-encodings (1:1.0.5-0ubuntu2) ...\n",
            "Selecting previously unselected package xfonts-utils.\n",
            "Preparing to unpack .../23-xfonts-utils_1%3a7.7+6build2_amd64.deb ...\n",
            "Unpacking xfonts-utils (1:7.7+6build2) ...\n",
            "Selecting previously unselected package lmodern.\n",
            "Preparing to unpack .../24-lmodern_2.004.5-6.1_all.deb ...\n",
            "Unpacking lmodern (2.004.5-6.1) ...\n",
            "Selecting previously unselected package t1utils.\n",
            "Preparing to unpack .../25-t1utils_1.41-4build2_amd64.deb ...\n",
            "Unpacking t1utils (1.41-4build2) ...\n",
            "Selecting previously unselected package tex-gyre.\n",
            "Preparing to unpack .../26-tex-gyre_20180621-3.1_all.deb ...\n",
            "Unpacking tex-gyre (20180621-3.1) ...\n",
            "Selecting previously unselected package texlive-binaries.\n",
            "Preparing to unpack .../27-texlive-binaries_2021.20210626.59705-1ubuntu0.2_amd64.deb ...\n",
            "Unpacking texlive-binaries (2021.20210626.59705-1ubuntu0.2) ...\n",
            "Selecting previously unselected package texlive-base.\n",
            "Preparing to unpack .../28-texlive-base_2021.20220204-1_all.deb ...\n",
            "Unpacking texlive-base (2021.20220204-1) ...\n",
            "Selecting previously unselected package texlive-fonts-recommended.\n",
            "Preparing to unpack .../29-texlive-fonts-recommended_2021.20220204-1_all.deb ...\n",
            "Unpacking texlive-fonts-recommended (2021.20220204-1) ...\n",
            "Selecting previously unselected package texlive-latex-base.\n",
            "Preparing to unpack .../30-texlive-latex-base_2021.20220204-1_all.deb ...\n",
            "Unpacking texlive-latex-base (2021.20220204-1) ...\n",
            "Selecting previously unselected package texlive-latex-recommended.\n",
            "Preparing to unpack .../31-texlive-latex-recommended_2021.20220204-1_all.deb ...\n",
            "Unpacking texlive-latex-recommended (2021.20220204-1) ...\n",
            "Selecting previously unselected package texlive.\n",
            "Preparing to unpack .../32-texlive_2021.20220204-1_all.deb ...\n",
            "Unpacking texlive (2021.20220204-1) ...\n",
            "Selecting previously unselected package tipa.\n",
            "Preparing to unpack .../33-tipa_2%3a1.3-21_all.deb ...\n",
            "Unpacking tipa (2:1.3-21) ...\n",
            "Setting up fonts-noto-mono (20201225-1build1) ...\n",
            "Setting up libwoff1:amd64 (1.0.2-1build4) ...\n",
            "Setting up libtexlua53:amd64 (2021.20210626.59705-1ubuntu0.2) ...\n",
            "Setting up libijs-0.35:amd64 (0.35-15build2) ...\n",
            "Setting up libtexluajit2:amd64 (2021.20210626.59705-1ubuntu0.2) ...\n",
            "Setting up libzzip-0-13:amd64 (0.13.72+dfsg.1-1.1) ...\n",
            "Setting up fonts-urw-base35 (20200910-1) ...\n",
            "Setting up poppler-data (0.4.11-1) ...\n",
            "Setting up tex-common (6.17) ...\n",
            "debconf: unable to initialize frontend: Dialog\n",
            "debconf: (No usable dialog-like program is installed, so the dialog based frontend cannot be used. at /usr/share/perl5/Debconf/FrontEnd/Dialog.pm line 78.)\n",
            "debconf: falling back to frontend: Readline\n",
            "update-language: texlive-base not installed and configured, doing nothing!\n",
            "Setting up libfontenc1:amd64 (1:1.1.4-1build3) ...\n",
            "Setting up libjbig2dec0:amd64 (0.19-3build2) ...\n",
            "Setting up libteckit0:amd64 (2.5.11+ds1-1) ...\n",
            "Setting up xfonts-encodings (1:1.0.5-0ubuntu2) ...\n",
            "Setting up t1utils (1.41-4build2) ...\n",
            "Setting up libidn12:amd64 (1.38-4ubuntu1) ...\n",
            "Setting up fonts-texgyre (20180621-3.1) ...\n",
            "Setting up libkpathsea6:amd64 (2021.20210626.59705-1ubuntu0.2) ...\n",
            "Setting up fonts-lmodern (2.004.5-6.1) ...\n",
            "Setting up fonts-droid-fallback (1:6.0.1r16-1.1build1) ...\n",
            "Setting up libsynctex2:amd64 (2021.20210626.59705-1ubuntu0.2) ...\n",
            "Setting up libgs9-common (9.55.0~dfsg1-0ubuntu5.6) ...\n",
            "Setting up libgs9:amd64 (9.55.0~dfsg1-0ubuntu5.6) ...\n",
            "Setting up dvisvgm (2.13.1-1) ...\n",
            "Setting up xfonts-utils (1:7.7+6build2) ...\n",
            "Setting up libptexenc1:amd64 (2021.20210626.59705-1ubuntu0.2) ...\n",
            "Setting up texlive-binaries (2021.20210626.59705-1ubuntu0.2) ...\n",
            "update-alternatives: using /usr/bin/xdvi-xaw to provide /usr/bin/xdvi.bin (xdvi.bin) in auto mode\n",
            "update-alternatives: using /usr/bin/bibtex.original to provide /usr/bin/bibtex (bibtex) in auto mode\n",
            "Setting up lmodern (2.004.5-6.1) ...\n",
            "Setting up texlive-base (2021.20220204-1) ...\n",
            "/usr/bin/ucfr\n",
            "/usr/bin/ucfr\n",
            "/usr/bin/ucfr\n",
            "/usr/bin/ucfr\n",
            "mktexlsr: Updating /var/lib/texmf/ls-R-TEXLIVEDIST... \n",
            "mktexlsr: Updating /var/lib/texmf/ls-R-TEXMFMAIN... \n",
            "mktexlsr: Updating /var/lib/texmf/ls-R... \n",
            "mktexlsr: Done.\n",
            "tl-paper: setting paper size for dvips to a4: /var/lib/texmf/dvips/config/config-paper.ps\n",
            "tl-paper: setting paper size for dvipdfmx to a4: /var/lib/texmf/dvipdfmx/dvipdfmx-paper.cfg\n",
            "tl-paper: setting paper size for xdvi to a4: /var/lib/texmf/xdvi/XDvi-paper\n",
            "tl-paper: setting paper size for pdftex to a4: /var/lib/texmf/tex/generic/tex-ini-files/pdftexconfig.tex\n",
            "debconf: unable to initialize frontend: Dialog\n",
            "debconf: (No usable dialog-like program is installed, so the dialog based frontend cannot be used. at /usr/share/perl5/Debconf/FrontEnd/Dialog.pm line 78.)\n",
            "debconf: falling back to frontend: Readline\n",
            "Setting up tex-gyre (20180621-3.1) ...\n",
            "Setting up texlive-latex-base (2021.20220204-1) ...\n",
            "Setting up texlive-latex-recommended (2021.20220204-1) ...\n",
            "Setting up texlive-fonts-recommended (2021.20220204-1) ...\n",
            "Setting up tipa (2:1.3-21) ...\n",
            "Setting up texlive (2021.20220204-1) ...\n",
            "Processing triggers for man-db (2.10.2-1) ...\n",
            "Processing triggers for fontconfig (2.13.1-4.2ubuntu5) ...\n",
            "Processing triggers for libc-bin (2.35-0ubuntu3.4) ...\n",
            "/sbin/ldconfig.real: /usr/local/lib/libtbbmalloc.so.2 is not a symbolic link\n",
            "\n",
            "/sbin/ldconfig.real: /usr/local/lib/libtbbmalloc_proxy.so.2 is not a symbolic link\n",
            "\n",
            "/sbin/ldconfig.real: /usr/local/lib/libtbbbind_2_0.so.3 is not a symbolic link\n",
            "\n",
            "/sbin/ldconfig.real: /usr/local/lib/libtbbbind_2_5.so.3 is not a symbolic link\n",
            "\n",
            "/sbin/ldconfig.real: /usr/local/lib/libtbb.so.12 is not a symbolic link\n",
            "\n",
            "/sbin/ldconfig.real: /usr/local/lib/libtbbbind.so.3 is not a symbolic link\n",
            "\n",
            "Processing triggers for tex-common (6.17) ...\n",
            "debconf: unable to initialize frontend: Dialog\n",
            "debconf: (No usable dialog-like program is installed, so the dialog based frontend cannot be used. at /usr/share/perl5/Debconf/FrontEnd/Dialog.pm line 78.)\n",
            "debconf: falling back to frontend: Readline\n",
            "Running updmap-sys. This may take some time... done.\n",
            "Running mktexlsr /var/lib/texmf ... done.\n",
            "Building format(s) --all.\n",
            "\tThis may take some time... done.\n",
            "Collecting PyMuPDF\n",
            "  Using cached PyMuPDF-1.24.1-cp310-none-manylinux2014_x86_64.whl (3.9 MB)\n",
            "Collecting PyMuPDFb==1.24.1 (from PyMuPDF)\n",
            "  Downloading PyMuPDFb-1.24.1-py3-none-manylinux2014_x86_64.manylinux_2_17_x86_64.whl (30.8 MB)\n",
            "\u001b[2K     \u001b[90m━━━━━━━━━━━━━━━━━━━━━━━━━━━━━━━━━━━━━━━━\u001b[0m \u001b[32m30.8/30.8 MB\u001b[0m \u001b[31m32.3 MB/s\u001b[0m eta \u001b[36m0:00:00\u001b[0m\n",
            "\u001b[?25hInstalling collected packages: PyMuPDFb, PyMuPDF\n",
            "Successfully installed PyMuPDF-1.24.1 PyMuPDFb-1.24.1\n"
          ]
        }
      ],
      "source": [
        "!pip install -U torchtext==0.6\n",
        "!sudo apt-get install texlive\n",
        "#!apt-get install -y imagemagick\n",
        "!pip install PyMuPDF"
      ]
    },
    {
      "cell_type": "markdown",
      "metadata": {
        "id": "loVyba1cuNyD"
      },
      "source": [
        "## Processing generated string"
      ]
    },
    {
      "cell_type": "code",
      "execution_count": null,
      "metadata": {
        "id": "AKWKIgrTtVn9"
      },
      "outputs": [],
      "source": [
        "import os,subprocess\n",
        "from fitz import fitz\n",
        "\n",
        "def check_latex_syntax(latex_expression):\n",
        "  temp_tex_file = \"temp.tex\"\n",
        "  with open(temp_tex_file,'w') as f:\n",
        "    f.write(r'''\n",
        "\\documentclass{article}\n",
        "\\begin{document}\n",
        "$''')\n",
        "    f.write(latex_expression)\n",
        "    f.write(r'''$\n",
        "\\end{document}''')\n",
        "  try:\n",
        "    subprocess.check_call(['pdflatex', '-interaction=nonstopmode', temp_tex_file])\n",
        "  except:\n",
        "    return False\n",
        "\n",
        "  subprocess.run(['rm', 'temp.tex', 'temp.log', 'temp.aux',\"temp.pdf\"])\n",
        "  return True\n",
        "\n",
        "\n",
        "\n",
        "def latex2img(latex_expression, file_name):\n",
        "    temp_tex_file = \"temp.tex\"\n",
        "    with open(temp_tex_file, 'w') as f:\n",
        "        f.write(r'''\n",
        "\\documentclass{article}\n",
        "\\usepackage{amsmath} % Add necessary packages\n",
        "\\begin{document}\n",
        "$''')\n",
        "        f.write(latex_expression)\n",
        "        f.write(r'''$\n",
        "\\end{document}''')\n",
        "    try:\n",
        "        subprocess.check_call(['pdflatex', '-interaction=nonstopmode', temp_tex_file])\n",
        "    except subprocess.CalledProcessError:\n",
        "        return False\n",
        "    # Convert generated pdf to png if latex is valid\n",
        "    try:\n",
        "      pdf_doc = fitz.open(\"temp.pdf\")  # Open temporary pdf with PyMuPDF\n",
        "      page = pdf_doc[0]  # Assuming the first page contains the Latex expression\n",
        "      pix = page.get_pixmap(matrix=fitz.Matrix(5.0, 5.0))  # Render at 5x resolution for better quality\n",
        "      pix.save(file_name)  # Save the rendered image\n",
        "      pdf_doc.close()\n",
        "    except Exception as e:\n",
        "      print(f\"Error converting pdf to image: {e}\")\n",
        "      return False\n",
        "    finally:\n",
        "      subprocess.run(['rm', 'temp.tex', 'temp.log', 'temp.aux'])  # Cleanup temporary files\n",
        "    return True"
      ]
    },
    {
      "cell_type": "markdown",
      "metadata": {
        "id": "WyxoMiMwuQwE"
      },
      "source": [
        "## Preprocessing"
      ]
    },
    {
      "cell_type": "code",
      "execution_count": null,
      "metadata": {
        "colab": {
          "base_uri": "https://localhost:8080/"
        },
        "id": "pIIWKtcwj7JJ",
        "outputId": "a022806c-67d4-423b-e030-4160e35df03a"
      },
      "outputs": [],
      "source": [
        "import torchtext\n",
        "import pandas as pd\n",
        "def tokenizer(text):\n",
        "  return text.split()\n",
        "\n",
        "file_path = \"/content/3.30_label.csv\"\n",
        "file_path2 = \"/content/label2.csv\"\n",
        "\n",
        "df = pd.read_csv(file_path, skiprows=1) # remove the first row ('column1')\n",
        "df.to_csv(file_path, index=False)\n",
        "\n",
        "\n",
        "text_field = torchtext.data.Field(sequential=True, # text sequence\n",
        "                                  tokenize=tokenizer, # because we are building a token based RNN\n",
        "                                  include_lengths=True, # to track the length of sequences, for batching\n",
        "                                  batch_first=True,\n",
        "                                  use_vocab=True,       # to turn each character into an integer index\n",
        "                                  init_token=\"<BOS>\",   # BOS token\n",
        "                                  eos_token=\"<EOS>\")    # EOS token\n",
        "\n",
        "fields = [('text', text_field), ('created_at', None), ('id_str', None)]\n",
        "latex = torchtext.data.TabularDataset(file_path, \"csv\", fields)\n",
        "train_data,val_data,test_data = latex.split(split_ratio=[0.8,0.1,0.1])\n",
        "text_field.build_vocab(latex)\n",
        "vocab_stoi = text_field.vocab.stoi\n",
        "vocab_itos = text_field.vocab.itos\n",
        "vocab_size = len(text_field.vocab.itos)\n",
        "\n",
        "import pickle\n",
        "with open('vocab.pkl', 'wb') as f:\n",
        "  pickle.dump({'stoi': vocab_stoi,\n",
        "               'itos': vocab_itos,\n",
        "               'size': vocab_size\n",
        "               }, f)\n"
      ]
    },
    {
      "cell_type": "markdown",
      "metadata": {
        "id": "TroOpXCyeXW-"
      },
      "source": [
        "## Baseline Model"
      ]
    },
    {
      "cell_type": "code",
      "execution_count": null,
      "metadata": {
        "colab": {
          "base_uri": "https://localhost:8080/"
        },
        "id": "Ub8KVJ0LeW9P",
        "outputId": "81ac33ba-fe14-4530-f1d3-ac9314bbbfdb"
      },
      "outputs": [
        {
          "name": "stdout",
          "output_type": "stream",
          "text": [
            "x \n",
            "x - 1 6 + b \n",
            "{ ~ } \n",
            "x _ { n + b - 2 } \n",
            "( x = - ( ( 1 0 \n",
            "x ^ { 1 } \n",
            "\\frac 1 + { ~ } { 2 } \n",
            "( t ) ) \n",
            "f \n",
            "{ ~ } \n",
            "{ 1 + 2 + 1 } \n",
            "{ ~ } \n",
            "\\sum { \\mathrm { ~ } { ~ } } { i m - 3 } \n",
            "\\sqrt { ~ i m } \n",
            "( ( 1 0 \n",
            "2 \n",
            "0.16\n"
          ]
        }
      ],
      "source": [
        "import csv\n",
        "import random\n",
        "import time\n",
        "\n",
        "random.seed(int(time.time()))\n",
        "\n",
        "def get_accuracy_baseline(frequencys,total,start_text,max_len = 20):\n",
        "  acc = 0\n",
        "  for i in range(total):\n",
        "    generated_sequence = baseline_generator(frequencys,start_text, max_len)\n",
        "    # print(generated_sequence)\n",
        "    if check_latex_syntax(generated_sequence):\n",
        "      print(generated_sequence)\n",
        "      acc += 1\n",
        "  return acc / total\n",
        "\n",
        "\n",
        "\n",
        "\n",
        "def baseline_generator(frequencys,start_text,max_len = 20):\n",
        "  generated_sequence = \"\"\n",
        "  cur_token = \"<BOS>\"\n",
        "  if start_text != \"\":\n",
        "    generated_sequence = start_text + \" \"\n",
        "    cur_token = start_text[-1]\n",
        "\n",
        "\n",
        "  for i in range(max_len):\n",
        "    next_elements = frequencys[cur_token]\n",
        "\n",
        "\n",
        "    threshold = random.random()\n",
        "    cur_upm = 0\n",
        "    next_token = \"\"\n",
        "    for ele,prob in next_elements:\n",
        "      cur_upm += prob\n",
        "      if threshold < cur_upm:\n",
        "        next_token = ele\n",
        "        break\n",
        "    if next_token == \"<EOS>\":\n",
        "      break\n",
        "    generated_sequence += next_token + \" \"\n",
        "    cur_token = next_token\n",
        "  return generated_sequence\n",
        "\n",
        "labels = csv.reader(open(file_path))\n",
        "label_list = []\n",
        "i = 0\n",
        "for line in labels:\n",
        "  if i:\n",
        "    tmp = [\"<BOS>\"]\n",
        "    for token in line[0].split(\" \"):\n",
        "      tmp.append(token)\n",
        "    tmp.append(\"<EOS>\")\n",
        "    label_list.append(tmp)\n",
        "  i += 1\n",
        "# dataset statistics\n",
        "# dataset_length = dict()\n",
        "# dataset_num_token = dict()\n",
        "# for label in label_list:\n",
        "#   label_len = len(label)\n",
        "#   num_token = len(set(label))\n",
        "#   if label_len not in dataset_length:\n",
        "#     dataset_length[label_len] = 1\n",
        "#   else:\n",
        "#     dataset_length[label_len] += 1\n",
        "#   if num_token not in dataset_num_token:\n",
        "#     dataset_num_token[num_token] = 1\n",
        "#   else:\n",
        "#     dataset_num_token[num_token] += 1\n",
        "  # print(label_len)\n",
        "  # print(num_token)\n",
        "# print(sorted(dataset_length.items(),key = lambda x: x[0]))\n",
        "# print(sorted(dataset_num_token.items(),key = lambda x: x[0]))\n",
        "# print(label_list)\n",
        "frequency_list = dict()\n",
        "for label in label_list:\n",
        "  label_len = len(label)\n",
        "  for i in range(label_len-1):\n",
        "    if label[i] in frequency_list:\n",
        "\n",
        "      if label[i+1] not in frequency_list[label[i]]:\n",
        "        frequency_list[label[i]][label[i+1]] = 1\n",
        "      else:\n",
        "        frequency_list[label[i]][label[i+1]] += 1\n",
        "    else:\n",
        "      frequency_list[label[i]] = dict()\n",
        "      frequency_list[label[i]][label[i+1]] = 1\n",
        "top5_frequency = dict()\n",
        "for item,val in frequency_list.items():\n",
        "  rank = 1\n",
        "  top5 = []\n",
        "  for next,freq in sorted(val.items(),key = lambda x:x[1],reverse=True):\n",
        "    if rank <= 10:\n",
        "      top5.append((next,freq))\n",
        "      rank += 1\n",
        "    else:\n",
        "      break\n",
        "  top5_frequency[item] = top5\n",
        "\n",
        "# Normalize top n\n",
        "for item,val in top5_frequency.items():\n",
        "  total_freq = 0\n",
        "  new_val = []\n",
        "  for pair in val:\n",
        "    total_freq += pair[1]\n",
        "  for pair in val:\n",
        "    prob = pair[1]/total_freq\n",
        "    new_val.append((pair[0],prob))\n",
        "  top5_frequency[item] = new_val\n",
        "# print(top5_frequency[\"{\"])\n",
        "# print(baseline_generator(top5_frequency,\"x\"))\n",
        "print(get_accuracy_baseline(top5_frequency,100,\"\"))"
      ]
    },
    {
      "cell_type": "code",
      "execution_count": null,
      "metadata": {
        "colab": {
          "base_uri": "https://localhost:8080/"
        },
        "id": "Su6oKF6m1UMG",
        "outputId": "3ef7e9f2-a5f9-4958-8353-eaf9eeeba3b9"
      },
      "outputs": [
        {
          "name": "stdout",
          "output_type": "stream",
          "text": [
            "0.2177292490341816\n"
          ]
        }
      ],
      "source": [
        "# teacher forcing\n",
        "def baseline_bleu(frequencys,labels):\n",
        "  score = 0\n",
        "  i = 0\n",
        "\n",
        "  for line in labels:\n",
        "\n",
        "    if i:\n",
        "      ref = line[0].split(\" \")\n",
        "      ref_len = len(ref)\n",
        "      tf_len = int(ref_len/2)\n",
        "      reference = []\n",
        "      pred = []\n",
        "      cur_token = \"\"\n",
        "      for j in range(tf_len,ref_len):\n",
        "        reference.append(ref[j])\n",
        "      cur_token = ref[tf_len-1]\n",
        "      for j in range(tf_len,ref_len):\n",
        "        next_token = frequencys[cur_token][0][0]\n",
        "        # threshold = random.random()\n",
        "        # cur_upm = 0\n",
        "        # for ele, prob in next_tokens:\n",
        "        #   cur_upm += prob\n",
        "        #   if threshold < cur_upm:\n",
        "        #     next_token = ele\n",
        "        #     break\n",
        "        if next_token == \"<EOS>\":\n",
        "          break\n",
        "        pred.append(next_token)\n",
        "        cur_token = next_token\n",
        "\n",
        "      score += corpus_bleu([ref], [pred],weights=(1, 0, 0, 0), smoothing_function=SmoothingFunction().method1)\n",
        "    i+= 1\n",
        "  return(score/i)\n",
        "labels = csv.reader(open(file_path))\n",
        "print(baseline_bleu(top5_frequency,labels))\n"
      ]
    },
    {
      "cell_type": "markdown",
      "metadata": {
        "id": "VqHXGsNnt3HW"
      },
      "source": [
        "## Model"
      ]
    },
    {
      "cell_type": "code",
      "execution_count": null,
      "metadata": {
        "id": "5TaOu21fR1WC"
      },
      "outputs": [],
      "source": [
        "import torch\n",
        "import time\n",
        "import torch.nn as nn\n",
        "import torch.nn.functional as F\n",
        "import torch.optim as optim\n",
        "import matplotlib.pyplot as plt\n",
        "import datetime\n",
        "import pytz\n",
        "\n",
        "\n",
        "\n",
        "class TextGenerator(nn.Module):\n",
        "    def __init__(self, vocab_size, hidden_size, n_layers=1, time=True):\n",
        "        super(TextGenerator, self).__init__()\n",
        "        self.name = 'GRU'\n",
        "\n",
        "        if time:\n",
        "          timezone = pytz.timezone('America/Toronto')\n",
        "          current_datetime = datetime.datetime.now(timezone)\n",
        "          date_time_string = current_datetime.strftime(\"%Y-%m-%d-%H:%M\")\n",
        "          self.name = self.name + '_' + date_time_string\n",
        "\n",
        "        # identiy matrix for generating one-hot vectors\n",
        "        self.ident = torch.eye(vocab_size)\n",
        "\n",
        "        # recurrent neural network\n",
        "        self.rnn = nn.GRU(vocab_size, hidden_size, n_layers, batch_first=True)\n",
        "\n",
        "        # a fully-connect layer that outputs a distribution over\n",
        "        # the next token, given the RNN output\n",
        "        self.decoder = nn.Linear(hidden_size, vocab_size)\n",
        "\n",
        "    def forward(self, inp, hidden=None):\n",
        "        inp = self.ident[inp]                  # generate one-hot vectors of input\n",
        "        output, hidden = self.rnn(inp, hidden) # get the next output and hidden state\n",
        "        output = self.decoder(output)          # predict distribution over next tokens\n",
        "        return output, hidden\n",
        "\n",
        "\n",
        "\n",
        "\n",
        "def get_accuracy(model,total,start_text,max_len,temperature):\n",
        "  acc = 0\n",
        "  for i in range(total):\n",
        "    generated_sequence = sample_sequence(model,start_text, max_len,temperature)\n",
        "    if check_latex_syntax(generated_sequence):\n",
        "      acc += 1\n",
        "  return acc / total\n",
        "\n",
        "\n",
        "def train(model, train_data,val_data, batch_size=1, num_epochs=1, lr=0.001):\n",
        "    optimizer = torch.optim.Adam(model.parameters(), lr=lr)\n",
        "    criterion = nn.CrossEntropyLoss()\n",
        "\n",
        "    data_iter = torchtext.data.BucketIterator(train_data,\n",
        "                          batch_size=batch_size,\n",
        "                          sort_key=lambda x: len(x.text),\n",
        "                          sort_within_batch=True)\n",
        "    epochs, losses, acc, train_bleu, val_bleu = [], [], [], [], []\n",
        "    val_losses\n",
        "    start_time = time.time()\n",
        "\n",
        "    for epoch in range(num_epochs):\n",
        "        it = 0\n",
        "        loss_sum = 0\n",
        "        bleu_score = 0\n",
        "        for (latex_str, lengths), label in data_iter:\n",
        "            target = latex_str[:, 1:] # Exclude BOS\n",
        "            inp = latex_str[:, :-1] # Exclude EOS\n",
        "            # cleanup\n",
        "            optimizer.zero_grad()\n",
        "            # forward pass\n",
        "            output, _ = model(inp)\n",
        "            loss = criterion(output.reshape(-1, vocab_size), target.reshape(-1))\n",
        "            # backward pass\n",
        "            loss.backward()\n",
        "            optimizer.step()\n",
        "            loss_sum += loss\n",
        "            it += 1\n",
        "\n",
        "            # bleu_score += float(getbleu(target.reshape(-1),output.reshape(-1, vocab_size)))\n",
        "\n",
        "\n",
        "        epochs.append(epoch)\n",
        "        losses.append(float(loss_sum/it))\n",
        "        accuracy = get_accuracy(model, 1000, '', 20, 0.8)\n",
        "        acc.append(accuracy)\n",
        "        # train_bleu.append(bleu_score / it)\n",
        "        # print(get_val_bleu_tf(model,val_data,0.8))\n",
        "        # val_bleu.append(get_val_bleu_tf(model,val_data,batch_size))\n",
        "        # val_bleu.append(get_val_bleu(model,val_data,batch_size))\n",
        "        print(\"[Epoch #%d] Loss %f Accuracy %f\" % (epoch, losses[-1], accuracy))\n",
        "        print(\"    \" + sample_sequence(model,\"\", 140, 0.8))\n",
        "\n",
        "    print('Finished Training')\n",
        "    end_time = time.time()\n",
        "    elapsed_time = end_time - start_time\n",
        "    print(\"Total time elapsed: {:.2f} seconds\".format(elapsed_time))\n",
        "\n",
        "    model_path = \"{0}_bs{1}_lr{2}_epoch{3}\".format(model.name,\n",
        "                                                         batch_size,\n",
        "                                                         lr,\n",
        "                                                         num_epochs)\n",
        "    torch.save(model.state_dict(), model_path)\n",
        "\n",
        "    with torch.no_grad():\n",
        "      plt.title(\"Training Curve\")\n",
        "      plt.plot(epochs, losses, label=\"Train\")\n",
        "      plt.xlabel(\"Epochs\")\n",
        "      plt.ylabel(\"Loss\")\n",
        "      plt.show()\n",
        "\n",
        "      plt.title(\"Training Curve\")\n",
        "      plt.plot(epochs, acc, label=\"Train\")\n",
        "      plt.xlabel(\"Epochs\")\n",
        "      plt.ylabel(\"Accuracy\")\n",
        "      plt.show()\n",
        "\n",
        "      # plt.title(\"Bleu Score Curve\")\n",
        "      # plt.plot(epochs, train_bleu, label=\"Train\")\n",
        "      # plt.plot(epochs, val_bleu, label=\"Validation\")\n",
        "      # plt.xlabel(\"Epochs\")\n",
        "      # plt.ylabel(\"Bleu Score\")\n",
        "      # plt.show()"
      ]
    },
    {
      "cell_type": "markdown",
      "metadata": {
        "id": "P2xs6Tq0uEf1"
      },
      "source": [
        "## Generating Latex"
      ]
    },
    {
      "cell_type": "code",
      "execution_count": null,
      "metadata": {
        "id": "5sPPDLWxt1oz"
      },
      "outputs": [],
      "source": [
        "def sample_sequence(model, start_text ,max_len=20, temperature=0.8):\n",
        "    generated_sequence = \"\"\n",
        "    inp = [vocab_stoi[\"<BOS>\"]]\n",
        "    idx,prefix_length,prefix_lst = -1,-1,[]\n",
        "\n",
        "    if start_text != \"\":\n",
        "      idx = 0\n",
        "      prefix_lst = start_text.split(\" \")\n",
        "      prefix_length = len(prefix_lst)\n",
        "      # generated_sequence = prefix_lst[idx] + ' '\n",
        "      # inp = [vocab_stoi[idx]]\n",
        "      # idx += 1\n",
        "\n",
        "    inp = torch.Tensor(inp).long()\n",
        "    hidden = None\n",
        "    for p in range(max_len):\n",
        "        output, hidden = model(inp.unsqueeze(0), hidden)\n",
        "\n",
        "        if idx < prefix_length:\n",
        "          predicted_char = prefix_lst[idx]\n",
        "          idx += 1\n",
        "          inp = torch.Tensor([vocab_stoi[predicted_char]]).long()\n",
        "        else:\n",
        "          # Sample from the network as a multinomial distribution\n",
        "          output_dist = output.data.view(-1).div(temperature).exp()\n",
        "          top_i = int(torch.multinomial(output_dist, 1)[0])\n",
        "          # Add predicted character to string and use as next input\n",
        "          predicted_char = vocab_itos[top_i]\n",
        "\n",
        "          inp = torch.Tensor([top_i]).long()\n",
        "\n",
        "        if predicted_char == \"<EOS>\":\n",
        "          break\n",
        "\n",
        "        generated_sequence += predicted_char + ' '\n",
        "\n",
        "    return generated_sequence\n",
        "\n",
        "\n",
        "def best_match_sequence(model, start_text ,max_len=20):\n",
        "  generated_sequence = \"\"\n",
        "  inp = [vocab_stoi[\"<BOS>\"]]\n",
        "  idx,prefix_length,prefix_lst = -1,-1,[]\n",
        "\n",
        "  if start_text != \"\":\n",
        "    idx = 0\n",
        "    prefix_lst = start_text.split(\" \")\n",
        "    prefix_length = len(prefix_lst)\n",
        "    generated_sequence = prefix_lst[idx] + ' '\n",
        "    inp = [vocab_stoi[idx]]\n",
        "    idx += 1\n",
        "\n",
        "  inp = torch.Tensor(inp).long()\n",
        "  hidden = None\n",
        "  for p in range(max_len):\n",
        "      output, hidden = model(inp.unsqueeze(0), hidden)\n",
        "\n",
        "      if idx < prefix_length:\n",
        "        predicted_char = prefix_lst[idx]\n",
        "        idx += 1\n",
        "        inp = torch.Tensor([vocab_stoi[predicted_char]]).long()\n",
        "      else:\n",
        "        # always choose the token with the largest probability\n",
        "        _,top_i = output.topk(1)\n",
        "        # Add predicted character to string and use as next input\n",
        "        predicted_char = vocab_itos[top_i.item()]\n",
        "        inp = torch.Tensor([top_i]).long()\n",
        "\n",
        "      if predicted_char == \"<EOS>\":\n",
        "        break\n",
        "\n",
        "      generated_sequence += predicted_char + ' '\n",
        "\n",
        "  return generated_sequence\n",
        "\n",
        "def min_max_sequence(model, start_text ,min_len = 5,max_len=20, temperature=0.8,must_contain = \"\"):\n",
        "    generated_sequence = \"\"\n",
        "    inp = [vocab_stoi[\"<BOS>\"]]\n",
        "    idx,prefix_length,prefix_lst = -1,-1,[]\n",
        "\n",
        "\n",
        "    if start_text != \"\":\n",
        "      idx = 0\n",
        "      prefix_lst = start_text.split(\" \")\n",
        "      prefix_length = len(prefix_lst)\n",
        "      # generated_sequence = prefix_lst[idx] + ' '\n",
        "      # inp = [vocab_stoi[idx]]\n",
        "      # idx += 1\n",
        "    if prefix_length > max_len:\n",
        "      print(\"Long user input!\")\n",
        "      return\n",
        "    inp = torch.Tensor(inp).long()\n",
        "    hidden = None\n",
        "\n",
        "\n",
        "\n",
        "    for p in range(max_len):\n",
        "        output, hidden = model(inp.unsqueeze(0), hidden)\n",
        "\n",
        "        if idx < prefix_length:\n",
        "          predicted_char = prefix_lst[idx]\n",
        "          idx += 1\n",
        "          inp = torch.Tensor([vocab_stoi[predicted_char]]).long()\n",
        "        elif p == min_len and must_contain != \"\":\n",
        "          predicted_char = must_contain\n",
        "          inp = torch.Tensor([vocab_stoi[predicted_char]]).long()\n",
        "        else:\n",
        "          predicted_char = \"<pad>\"\n",
        "          while (p < min_len and predicted_char == \"<EOS>\") or predicted_char in [\"<pad>\",\"<BOS>\",\"<unk>\"]:\n",
        "            # Sample from the network as a multinomial distribution\n",
        "            output_dist = output.data.view(-1).div(temperature).exp()\n",
        "            top_i = int(torch.multinomial(output_dist, 1)[0])\n",
        "            # Add predicted character to string and use as next input\n",
        "            predicted_char = vocab_itos[top_i]\n",
        "\n",
        "            inp = torch.Tensor([top_i]).long()\n",
        "\n",
        "        if predicted_char == \"<EOS>\":\n",
        "\n",
        "          break\n",
        "\n",
        "        generated_sequence += predicted_char + ' '\n",
        "\n",
        "    return generated_sequence\n",
        "\n",
        "def smart_generator(model, start_text ,min_len = 5,max_len=20, temperature=0.8,num_of_img = 4,must_contain = \"\"):\n",
        "    ret =[]\n",
        "    diff = max_len - min_len\n",
        "    len_lwm,len_upm = min_len,min_len\n",
        "    ranges = diff / num_of_img\n",
        "    for i in range(num_of_img):\n",
        "      len_upm += ranges\n",
        "      found,force = False, False\n",
        "      start_time,now = time.time(),time.time()\n",
        "      while not found:\n",
        "        seq = min_max_sequence(model,start_text,int(len_lwm),int(len_upm),temperature,must_contain)\n",
        "        if not force and now - start_time > 1:\n",
        "          start_text += ' '+ must_contain\n",
        "          must_contain = \"\"\n",
        "          force = True\n",
        "        if check_latex_syntax(seq):\n",
        "          found = True\n",
        "      now = time.time()\n",
        "      print(now - start_time)\n",
        "      ret.append(seq)\n",
        "      len_lwm += ranges\n",
        "    return ret\n",
        "\n",
        "# Keep generating until one valid LaTeX expression is found\n",
        "def generate_valid_sequence(model, start_text, min_len,max_len=20, temperature = 0.8):\n",
        "    found = False\n",
        "    generated_sequence = \"\"\n",
        "    start_time,now = time.time(),time.time()\n",
        "    while not found and now - start_time < 10  :\n",
        "      if now - start_time > 10:\n",
        "        return generated_sequence + \"\\nTIME OUT\"\n",
        "      generated_sequence = min_max_sequence(model,start_text,min_len,max_len,temperature)\n",
        "      if check_latex_syntax(generated_sequence):\n",
        "        found = True\n",
        "      else:\n",
        "        print(generated_sequence + \" is not valid!\")\n",
        "      now = time.time()\n",
        "\n",
        "    print(\"It takes {:.2f} to generate a valid latex expression\".format(now - start_time))\n",
        "    return generated_sequence"
      ]
    },
    {
      "cell_type": "markdown",
      "metadata": {
        "id": "pKg7HnCfHZ8K"
      },
      "source": [
        "## Evaluation"
      ]
    },
    {
      "cell_type": "code",
      "execution_count": null,
      "metadata": {
        "id": "XXdBuKcyHZIz"
      },
      "outputs": [],
      "source": [
        "from nltk.translate.bleu_score import corpus_bleu, SmoothingFunction\n",
        "\n",
        "def getbleu(reference,output):\n",
        "  ref = reference.tolist()\n",
        "  ref_str = [str(n) for n in ref]\n",
        "  pred = []\n",
        "\n",
        "  for op in output:\n",
        "    ind = torch.argmax(op).tolist()\n",
        "    pred.append(str(ind))\n",
        "  # print(pred)\n",
        "  return corpus_bleu([ref_str], [pred],weights=(1, 0, 0, 0), smoothing_function=SmoothingFunction().method1)\n",
        "\n",
        "\n",
        "\n",
        "def get_val_bleu_tf(model,data_set,temperature = 0.8):\n",
        "  val_bleu_score = 0\n",
        "  it = 0\n",
        "  data_iter = torchtext.data.BucketIterator(data_set,\n",
        "                          batch_size=1,\n",
        "                          sort_key=lambda x: len(x.text),\n",
        "                          sort_within_batch=True)\n",
        "  for (latex_str, lengths), label in data_iter:\n",
        "\n",
        "    target = latex_str[:, 1:-1] # Exclude BOS and EOS\n",
        "    target = target.reshape(-1)\n",
        "    target_lst = target.tolist() # reference list\n",
        "    target_len = len(target_lst)\n",
        "    ref = []\n",
        "    pred =[]\n",
        "\n",
        "    i = 0\n",
        "    inp = [vocab_stoi[\"<BOS>\"]]\n",
        "    inp = torch.Tensor(inp).long()\n",
        "    tf_len = int(target_len/2)\n",
        "    for i in range(tf_len,target_len):\n",
        "      ref.append(target_lst[i])\n",
        "    hidden = None\n",
        "    for i in range(target_len):\n",
        "      output, hidden = model(inp.unsqueeze(0), hidden)\n",
        "      if i < tf_len:\n",
        "        predicted_char = target_lst[i]\n",
        "        inp = torch.Tensor([vocab_stoi[predicted_char]]).long()\n",
        "      else:\n",
        "        # Sample from the network as a multinomial distribution\n",
        "        output_dist = output.data.view(-1).div(temperature).exp()\n",
        "        top_i = int(torch.multinomial(output_dist, 1)[0])\n",
        "        # Add predicted character to string and use as next input\n",
        "        predicted_char = vocab_itos[top_i]\n",
        "        pred.append(str(top_i))\n",
        "        inp = torch.Tensor([top_i]).long()\n",
        "\n",
        "      if predicted_char == \"<EOS>\":\n",
        "        break\n",
        "\n",
        "    it += 1\n",
        "    # print(target_lst)\n",
        "    # print(pred)\n",
        "    val_bleu_score += corpus_bleu([[str(t) for t in ref]], [pred],weights=(1, 0, 0, 0), smoothing_function=SmoothingFunction().method1)\n",
        "  return val_bleu_score / it"
      ]
    },
    {
      "cell_type": "markdown",
      "metadata": {
        "id": "eKF0pZKye6PT"
      },
      "source": [
        "## Training"
      ]
    },
    {
      "cell_type": "code",
      "execution_count": null,
      "metadata": {
        "id": "JUNZfzbb_0_s"
      },
      "outputs": [],
      "source": [
        "model = TextGenerator(vocab_size, 256)\n",
        "\n",
        "load_model = False\n",
        "if load_model:\n",
        "  model_path = \"/content/GRU_2024-04-02-17_58_bs10_lr0.01_epoch5\"\n",
        "  state = torch.load(model_path)\n",
        "  model.load_state_dict(state)\n"
      ]
    },
    {
      "cell_type": "code",
      "execution_count": null,
      "metadata": {
        "colab": {
          "base_uri": "https://localhost:8080/",
          "height": 1000
        },
        "id": "8lb0uMTatVP1",
        "outputId": "b1feca16-1950-49c9-d86e-7c161e204da8"
      },
      "outputs": [
        {
          "name": "stdout",
          "output_type": "stream",
          "text": [
            "[Epoch #0] Loss 2.966318 Accuracy 0.570000\n",
            "    2 . 3 \n",
            "[Epoch #1] Loss 2.257012 Accuracy 0.778000\n",
            "    \\left[ \\mathrm { ~ t ~ } } \n",
            "[Epoch #2] Loss 2.071349 Accuracy 0.865000\n",
            "    r _ { n } \n",
            "[Epoch #3] Loss 1.966967 Accuracy 0.861000\n",
            "    { - \\int l d + d } \n",
            "[Epoch #4] Loss 1.893672 Accuracy 0.872000\n",
            "    \\sum { { w + N } } \n",
            "[Epoch #5] Loss 1.835783 Accuracy 0.875000\n",
            "    { - e } \n",
            "[Epoch #6] Loss 1.786526 Accuracy 0.857000\n",
            "    a + b + c = - 2 a c \n",
            "[Epoch #7] Loss 1.741809 Accuracy 0.884000\n",
            "    \\mathrm { ~ u ~ } \\left( 9 \\right) \n",
            "[Epoch #8] Loss 1.694825 Accuracy 0.860000\n",
            "    { \\cdots + { C } ^ { \\mathrm { ~ H ~ } } } \n",
            "[Epoch #9] Loss 1.647517 Accuracy 0.876000\n",
            "    1 6 ^ { 5 } \n",
            "Finished Training\n",
            "Total time elapsed: 1264.71 seconds\n"
          ]
        },
        {
          "data": {
            "image/png": "[encoded data removed]",
            "text/plain": [
              "<Figure size 640x480 with 1 Axes>"
            ]
          },
          "metadata": {},
          "output_type": "display_data"
        },
        {
          "data": {
            "image/png": "[encoded data removed]",
            "text/plain": [
              "<Figure size 640x480 with 1 Axes>"
            ]
          },
          "metadata": {},
          "output_type": "display_data"
        }
      ],
      "source": [
        "model2 = TextGenerator(vocab_size, 512)\n",
        "train(model2,train_data,val_data,batch_size = 10, num_epochs=10, lr=0.001)"
      ]
    },
    {
      "cell_type": "code",
      "execution_count": null,
      "metadata": {
        "colab": {
          "base_uri": "https://localhost:8080/",
          "height": 1000
        },
        "id": "LfSKCiFFOpKE",
        "outputId": "1199053a-b954-4c74-b385-141e4cbc92ad"
      },
      "outputs": [
        {
          "name": "stdout",
          "output_type": "stream",
          "text": [
            "0.02639113990086328\n",
            "[Epoch #0] Loss 3.179979 Accuracy 0.430000\n",
            "    n ( d = 1 \n",
            "0.025649545506452067\n",
            "[Epoch #1] Loss 2.378640 Accuracy 0.750000\n",
            "    ( t _ { 2 } \n",
            "0.027381372839392883\n",
            "[Epoch #2] Loss 2.162342 Accuracy 0.810000\n",
            "    7 = 9 \n",
            "0.023646583798452844\n",
            "[Epoch #3] Loss 2.049469 Accuracy 0.780000\n",
            "    \\sqrt { \\mathrm { ~ f ~ } } \n",
            "0.02495861671990975\n",
            "[Epoch #4] Loss 1.979002 Accuracy 0.890000\n",
            "    x ^ { 2 } + x ^ { 2 } \n",
            "0.022313244245471674\n",
            "[Epoch #5] Loss 1.924356 Accuracy 0.880000\n",
            "    \\mathrm { ~ i ~ } \n",
            "0.02297139415804976\n",
            "[Epoch #6] Loss 1.871746 Accuracy 0.810000\n",
            "    p ^ { n } - r ^ { n } - 1 \n",
            "0.02403409069062018\n",
            "[Epoch #7] Loss 1.837732 Accuracy 0.860000\n",
            "    { - \\gamma } \n",
            "0.022768899760614175\n",
            "[Epoch #8] Loss 1.804131 Accuracy 0.920000\n",
            "    x _ { 1 } = x _ { 3 } \n",
            "0.02255722336092637\n",
            "[Epoch #9] Loss 1.780441 Accuracy 0.830000\n",
            "    a _ { i j } \n",
            "Finished Training\n",
            "Total time elapsed: 231.17 seconds\n"
          ]
        },
        {
          "data": {
            "image/png": "[encoded data removed]",
            "text/plain": [
              "<Figure size 640x480 with 1 Axes>"
            ]
          },
          "metadata": {},
          "output_type": "display_data"
        },
        {
          "data": {
            "image/png": "[encoded data removed]",
            "text/plain": [
              "<Figure size 640x480 with 1 Axes>"
            ]
          },
          "metadata": {},
          "output_type": "display_data"
        }
      ],
      "source": [
        "model2 = TextGenerator(vocab_size, 256)\n",
        "train(model2,train_data,val_data,batch_size = 10, num_epochs=10, lr=0.001)"
      ]
    },
    {
      "cell_type": "code",
      "execution_count": null,
      "metadata": {
        "colab": {
          "base_uri": "https://localhost:8080/",
          "height": 1000
        },
        "id": "IrF6PHTKQNH6",
        "outputId": "5436a46b-bbe3-4ee3-83ff-1cc30ddaf48b"
      },
      "outputs": [
        {
          "name": "stdout",
          "output_type": "stream",
          "text": [
            "0.031563592280758765\n",
            "[Epoch #0] Loss 3.384447 Accuracy 0.400000\n",
            "    { X ^ { \\mathrm { ~ } ~ } = ^ { 2 } \\right) <pad> + { { ~ u ~ } } } \n",
            "0.02821755585652322\n",
            "[Epoch #1] Loss 2.546093 Accuracy 0.630000\n",
            "    \\sqrt { i } } ^ { 2 } = t - { x } } _ { n } + k { c i n \n",
            "0.02837656184277204\n",
            "[Epoch #2] Loss 2.276662 Accuracy 0.710000\n",
            "    a e ^ { 1 } _ { 2 } \n",
            "0.026042067592957435\n",
            "[Epoch #3] Loss 2.159795 Accuracy 0.720000\n",
            "    2 \n",
            "0.027239463017514235\n",
            "[Epoch #4] Loss 2.084648 Accuracy 0.750000\n",
            "    q = 0 \n",
            "0.024539334773863438\n",
            "[Epoch #5] Loss 2.022792 Accuracy 0.940000\n",
            "    y = y \n",
            "0.02541351138600467\n",
            "[Epoch #6] Loss 1.976635 Accuracy 0.900000\n",
            "    \\mathrm { ~ E i ~ } \n",
            "0.023550327877394403\n",
            "[Epoch #7] Loss 1.944502 Accuracy 0.810000\n",
            "    \\sum _ { \\left[ \\mathrm { ~ N ~ } R } ^ { { \\mathrm { ~ L ~ } - v } } \\mathrm { ~ j ~ } } \n",
            "0.0268878571715295\n",
            "[Epoch #8] Loss 1.908893 Accuracy 0.880000\n",
            "    n _ { 1 } = a _ { i + i } \n",
            "0.022576798815700932\n",
            "[Epoch #9] Loss 1.879271 Accuracy 0.860000\n",
            "    \\frac { \\pi } { 3 } \n",
            "Finished Training\n",
            "Total time elapsed: 203.71 seconds\n"
          ]
        },
        {
          "data": {
            "image/png": "[encoded data removed]",
            "text/plain": [
              "<Figure size 640x480 with 1 Axes>"
            ]
          },
          "metadata": {},
          "output_type": "display_data"
        },
        {
          "data": {
            "image/png": "[encoded data removed]",
            "text/plain": [
              "<Figure size 640x480 with 1 Axes>"
            ]
          },
          "metadata": {},
          "output_type": "display_data"
        }
      ],
      "source": [
        "model3 = TextGenerator(vocab_size, 128)\n",
        "train(model3,train_data,val_data,batch_size = 10, num_epochs=10, lr=0.001)"
      ]
    },
    {
      "cell_type": "code",
      "execution_count": null,
      "metadata": {
        "colab": {
          "base_uri": "https://localhost:8080/"
        },
        "id": "gCYSq5cfk8PE",
        "outputId": "ab7905e6-5710-434d-d303-8ef475faec81"
      },
      "outputs": [
        {
          "data": {
            "text/plain": [
              "0.04659069674154679"
            ]
          },
          "execution_count": 39,
          "metadata": {},
          "output_type": "execute_result"
        }
      ],
      "source": [
        "get_val_bleu_tf(model,val_data,0.8)"
      ]
    },
    {
      "cell_type": "code",
      "execution_count": null,
      "metadata": {
        "colab": {
          "base_uri": "https://localhost:8080/"
        },
        "id": "pd6LSWneaHIU",
        "outputId": "b992b3f8-3e21-408f-eab6-798f82f27f27"
      },
      "outputs": [
        {
          "name": "stdout",
          "output_type": "stream",
          "text": [
            "asd ^ { 2 } - 1 \n"
          ]
        }
      ],
      "source": [
        "print(sample_sequence(model2,\"asd\"))"
      ]
    },
    {
      "cell_type": "code",
      "execution_count": null,
      "metadata": {
        "colab": {
          "base_uri": "https://localhost:8080/"
        },
        "id": "WfHT1AeURhfQ",
        "outputId": "ca6736be-4723-483b-c1d5-1b8b39b290bc"
      },
      "outputs": [
        {
          "name": "stdout",
          "output_type": "stream",
          "text": [
            "0.49591064453125\n",
            "0.10363554954528809\n",
            "0.5944015979766846\n",
            "0.0989224910736084\n",
            "\\int c - 6 d y \n",
            "\\int \\left( \\mathrm { ~ z ~ } y d \\right) \n",
            "\\int \\sqrt { \\mathrm { ~ x ~ } } ^ { y } d d \n",
            "\\int _ { \\mathrm { ~ r ~ } } ^ { \\mathrm { ~ Y y ~ } } \n"
          ]
        }
      ],
      "source": [
        "for seq in smart_generator(model2, \"\\\\int\" ,min_len = 5,max_len=20, temperature=0.8,num_of_img = 4,must_contain= \"y\"):\n",
        "  print(seq)"
      ]
    },
    {
      "cell_type": "code",
      "execution_count": null,
      "metadata": {
        "colab": {
          "base_uri": "https://localhost:8080/"
        },
        "id": "4xbjsJJwmJ9Z",
        "outputId": "a85b329a-2945-462f-f629-8d68496230bc"
      },
      "outputs": [
        {
          "data": {
            "text/plain": [
              "True"
            ]
          },
          "execution_count": 12,
          "metadata": {},
          "output_type": "execute_result"
        }
      ],
      "source": [
        "# latex_checker(\"r = e ^ { k }\")\n",
        "check_latex_syntax(\"r = e ^ { k }\")"
      ]
    },
    {
      "cell_type": "code",
      "execution_count": null,
      "metadata": {
        "colab": {
          "base_uri": "https://localhost:8080/",
          "height": 321
        },
        "id": "ZaPuDAv2iB1s",
        "outputId": "47ca5bc6-c8ea-41cc-abc6-1e589868d7dc"
      },
      "outputs": [
        {
          "name": "stdout",
          "output_type": "stream",
          "text": [
            "Long user input!\n"
          ]
        },
        {
          "ename": "TypeError",
          "evalue": "write() argument must be str, not None",
          "output_type": "error",
          "traceback": [
            "\u001b[0;31m---------------------------------------------------------------------------\u001b[0m",
            "\u001b[0;31mTypeError\u001b[0m                                 Traceback (most recent call last)",
            "\u001b[0;32m<ipython-input-36-06bace62b716>\u001b[0m in \u001b[0;36m<cell line: 2>\u001b[0;34m()\u001b[0m\n\u001b[1;32m      1\u001b[0m \u001b[0;31m# Generate valid LaTeX expressions\u001b[0m\u001b[0;34m\u001b[0m\u001b[0;34m\u001b[0m\u001b[0m\n\u001b[0;32m----> 2\u001b[0;31m \u001b[0mprint\u001b[0m\u001b[0;34m(\u001b[0m\u001b[0mgenerate_valid_sequence\u001b[0m\u001b[0;34m(\u001b[0m\u001b[0mmodel\u001b[0m\u001b[0;34m,\u001b[0m \u001b[0;34mr\"r = e ^ 2\"\u001b[0m\u001b[0;34m)\u001b[0m\u001b[0;34m)\u001b[0m\u001b[0;34m\u001b[0m\u001b[0;34m\u001b[0m\u001b[0m\n\u001b[0m",
            "\u001b[0;32m<ipython-input-31-b4155043afcc>\u001b[0m in \u001b[0;36mgenerate_valid_sequence\u001b[0;34m(model, start_text, max_len, temperature)\u001b[0m\n\u001b[1;32m    126\u001b[0m         \u001b[0;32mreturn\u001b[0m \u001b[0mgenerated_sequence\u001b[0m \u001b[0;34m+\u001b[0m \u001b[0;34m\"\\nTIME OUT\"\u001b[0m\u001b[0;34m\u001b[0m\u001b[0;34m\u001b[0m\u001b[0m\n\u001b[1;32m    127\u001b[0m       \u001b[0mgenerated_sequence\u001b[0m \u001b[0;34m=\u001b[0m \u001b[0mmin_max_sequence\u001b[0m\u001b[0;34m(\u001b[0m\u001b[0mmodel\u001b[0m\u001b[0;34m,\u001b[0m\u001b[0mstart_text\u001b[0m\u001b[0;34m,\u001b[0m\u001b[0mmax_len\u001b[0m\u001b[0;34m,\u001b[0m\u001b[0mtemperature\u001b[0m\u001b[0;34m)\u001b[0m\u001b[0;34m\u001b[0m\u001b[0;34m\u001b[0m\u001b[0m\n\u001b[0;32m--> 128\u001b[0;31m       \u001b[0;32mif\u001b[0m \u001b[0mcheck_latex_syntax\u001b[0m\u001b[0;34m(\u001b[0m\u001b[0mgenerated_sequence\u001b[0m\u001b[0;34m)\u001b[0m\u001b[0;34m:\u001b[0m\u001b[0;34m\u001b[0m\u001b[0;34m\u001b[0m\u001b[0m\n\u001b[0m\u001b[1;32m    129\u001b[0m         \u001b[0mfound\u001b[0m \u001b[0;34m=\u001b[0m \u001b[0;32mTrue\u001b[0m\u001b[0;34m\u001b[0m\u001b[0;34m\u001b[0m\u001b[0m\n\u001b[1;32m    130\u001b[0m       \u001b[0;32melse\u001b[0m\u001b[0;34m:\u001b[0m\u001b[0;34m\u001b[0m\u001b[0;34m\u001b[0m\u001b[0m\n",
            "\u001b[0;32m<ipython-input-4-8660a742a485>\u001b[0m in \u001b[0;36mcheck_latex_syntax\u001b[0;34m(latex_expression)\u001b[0m\n\u001b[1;32m      9\u001b[0m \u001b[0;31m\\\u001b[0m\u001b[0mbegin\u001b[0m\u001b[0;34m{\u001b[0m\u001b[0mdocument\u001b[0m\u001b[0;34m}\u001b[0m\u001b[0;34m\u001b[0m\u001b[0;34m\u001b[0m\u001b[0m\n\u001b[1;32m     10\u001b[0m $''')\n\u001b[0;32m---> 11\u001b[0;31m     \u001b[0mf\u001b[0m\u001b[0;34m.\u001b[0m\u001b[0mwrite\u001b[0m\u001b[0;34m(\u001b[0m\u001b[0mlatex_expression\u001b[0m\u001b[0;34m)\u001b[0m\u001b[0;34m\u001b[0m\u001b[0;34m\u001b[0m\u001b[0m\n\u001b[0m\u001b[1;32m     12\u001b[0m     f.write(r'''$\n\u001b[1;32m     13\u001b[0m \\end{document}''')\n",
            "\u001b[0;31mTypeError\u001b[0m: write() argument must be str, not None"
          ]
        }
      ],
      "source": [
        "# Generate valid LaTeX expressions\n",
        "print(generate_valid_sequence(model, \"r = e ^ 2\"))"
      ]
    },
    {
      "cell_type": "code",
      "execution_count": null,
      "metadata": {
        "colab": {
          "base_uri": "https://localhost:8080/"
        },
        "id": "LAP6Ib3HHR80",
        "outputId": "62e1a3e8-967f-4c12-8628-4e2087092a0c"
      },
      "outputs": [
        {
          "name": "stdout",
          "output_type": "stream",
          "text": [
            "x = \\frac { 2 \\pi } { 4 p } d ( n - 1 ) \n"
          ]
        }
      ],
      "source": [
        "# Generate LaTeX expressions with min length\n",
        "print(min_max_sequence(model,\"x =\",))"
      ]
    },
    {
      "cell_type": "code",
      "execution_count": null,
      "metadata": {
        "colab": {
          "base_uri": "https://localhost:8080/"
        },
        "id": "p4UIv7kRSO9v",
        "outputId": "59ef5c01-dd78-4902-e7ed-ead2764aa32b"
      },
      "outputs": [
        {
          "name": "stdout",
          "output_type": "stream",
          "text": [
            "x = 1 \n",
            "r = - \\sqrt { L } \n",
            "\\int \\left( w \\right) } \n",
            "\\frac \\pm 5 \\cdot u \\neq 6 3 i ( 7 / B 2 0 ) \\div ( 2 \\times 5 \n",
            "\\phi \\pm [ \\cdot N h H \\right) M 7 H \\right) u \\right| y z \\theta 5 \\forall \\sqrt E \n"
          ]
        }
      ],
      "source": [
        "# Generate random LaTeX expressions with diff temperature\n",
        "print(sample_sequence(model,\"x =\" ,temperature=0.8))\n",
        "print(sample_sequence(model,\"r =\" ,temperature=1.0))\n",
        "print(sample_sequence(model,\"\\\\int\" ,temperature=1.5))\n",
        "print(sample_sequence(model,\"\\\\frac\" ,temperature=2.0))\n",
        "print(sample_sequence(model,\"\\\\phi\" ,temperature=5.0))"
      ]
    }
  ],
  "metadata": {
    "colab": {
      "collapsed_sections": [
        "--BPBs-ZuWMR",
        "VqHXGsNnt3HW",
        "P2xs6Tq0uEf1",
        "loVyba1cuNyD"
      ],
      "provenance": []
    },
    "kernelspec": {
      "display_name": "Python 3",
      "name": "python3"
    },
    "language_info": {
      "codemirror_mode": {
        "name": "ipython",
        "version": 3
      },
      "file_extension": ".py",
      "mimetype": "text/x-python",
      "name": "python",
      "nbconvert_exporter": "python",
      "pygments_lexer": "ipython3",
      "version": "3.7.4"
    }
  },
  "nbformat": 4,
  "nbformat_minor": 0
}
